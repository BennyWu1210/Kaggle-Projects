{
 "cells": [
  {
   "cell_type": "code",
   "execution_count": null,
   "id": "b7dab894-3830-4d45-8d18-7255544ddf90",
   "metadata": {},
   "outputs": [],
   "source": []
  }
 ],
 "metadata": {
  "kernelspec": {
   "display_name": "",
   "name": ""
  },
  "language_info": {
   "name": ""
  }
 },
 "nbformat": 4,
 "nbformat_minor": 5
}
